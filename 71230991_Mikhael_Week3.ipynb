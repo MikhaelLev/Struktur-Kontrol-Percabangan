{
  "nbformat": 4,
  "nbformat_minor": 0,
  "metadata": {
    "colab": {
      "provenance": []
    },
    "kernelspec": {
      "name": "python3",
      "display_name": "Python 3"
    },
    "language_info": {
      "name": "python"
    }
  },
  "cells": [
    {
      "cell_type": "markdown",
      "source": [
        "Soal 1 Contoh 3.1"
      ],
      "metadata": {
        "id": "yq3d4HhlB4rh"
      }
    },
    {
      "cell_type": "code",
      "execution_count": 1,
      "metadata": {
        "id": "TL2H0hhgBuf9",
        "colab": {
          "base_uri": "https://localhost:8080/"
        },
        "outputId": "82f22569-36d8-4273-ef27-f89c91995c4a"
      },
      "outputs": [
        {
          "output_type": "stream",
          "name": "stdout",
          "text": [
            "Suhu anda sekarang : 39\n",
            "Anda demam\n"
          ]
        }
      ],
      "source": [
        "suhu = input(\"Suhu anda sekarang : \")\n",
        "\n",
        "try:\n",
        "    panasTubuh = int(suhu)\n",
        "    if panasTubuh >= 38:\n",
        "        print(\"Anda demam\")\n",
        "    else:\n",
        "        print(\"Anda tidak demam\")\n",
        "except:\n",
        "    print(\"Suhu harus dalam angka!\")"
      ]
    },
    {
      "cell_type": "markdown",
      "source": [
        "Soal 1 Contoh 3.2"
      ],
      "metadata": {
        "id": "z_YS16Y1CDOC"
      }
    },
    {
      "cell_type": "code",
      "source": [
        "inputAngka = input(\"Masukkan sebuah angka : \")\n",
        "\n",
        "try:\n",
        "    positif_negatif = int(inputAngka)\n",
        "    if positif_negatif == 0:\n",
        "        print(\"Nol\")\n",
        "    elif positif_negatif > 0:\n",
        "        print(\"Positif\")\n",
        "    elif positif_negatif < 0:\n",
        "        print(\"Negatif\")\n",
        "\n",
        "except:\n",
        "    print(\"Inputan harus dalam bentuk angka!\")\n"
      ],
      "metadata": {
        "id": "o7t_VpnzCBZ6",
        "colab": {
          "base_uri": "https://localhost:8080/"
        },
        "outputId": "891a97ff-ee49-4e7f-af12-f555c8ad7e72"
      },
      "execution_count": 3,
      "outputs": [
        {
          "output_type": "stream",
          "name": "stdout",
          "text": [
            "Masukkan sebuah angka : nol\n",
            "Inputan harus dalam bentuk angka!\n"
          ]
        }
      ]
    },
    {
      "cell_type": "markdown",
      "source": [
        "Soal 1 Contoh 3.3"
      ],
      "metadata": {
        "id": "bf1C8ZfcCL6z"
      }
    },
    {
      "cell_type": "code",
      "source": [
        "VariabelA = input(\"Masukkan bilangan a : \")\n",
        "VariabelB = input(\"Masukkan bilangan b : \")\n",
        "VariabelC = input(\"Masukkan bilangan c : \")\n",
        "\n",
        "try:\n",
        "    a = int(VariabelA)\n",
        "    b = int(VariabelB)\n",
        "    c = int(VariabelC)\n",
        "    if a > b and a > c:\n",
        "        print(\"Bilangan terbesar adalah : \", a)\n",
        "    elif b > a and b > c:\n",
        "        print(\"Bilangan terbesar adalah : \", b)\n",
        "    elif c > a and c > b:\n",
        "        print(\"Bilangan terbesar adalah : \", c)\n",
        "except:\n",
        "    print(\"Ada bilangan yang belum dalam format angka!! \")"
      ],
      "metadata": {
        "id": "lyLhU9QpCLqx",
        "colab": {
          "base_uri": "https://localhost:8080/"
        },
        "outputId": "4acf0354-4f53-45c3-c66b-d58e6a75edea"
      },
      "execution_count": 4,
      "outputs": [
        {
          "output_type": "stream",
          "name": "stdout",
          "text": [
            "Masukkan bilangan a : 2\n",
            "Masukkan bilangan b : 34\n",
            "Masukkan bilangan c : 543\n",
            "Bilangan terbesar adalah :  543\n"
          ]
        }
      ]
    },
    {
      "cell_type": "markdown",
      "source": [
        "Soal 2"
      ],
      "metadata": {
        "id": "YvlQfbIJCTIp"
      }
    },
    {
      "cell_type": "code",
      "source": [
        "positif_negatif = int(input(\"Masukkan sebuah angka : \"))\n",
        "\n",
        "print(\"Nol\") if positif_negatif == 0 else print(\"Positif\") if positif_negatif > 0 else print(\"Negatif\") if positif_negatif < 0 else False"
      ],
      "metadata": {
        "id": "ic-5_XPHCS4p",
        "colab": {
          "base_uri": "https://localhost:8080/"
        },
        "outputId": "9bc21f11-8531-47d0-ad23-3d654e6cd922"
      },
      "execution_count": 5,
      "outputs": [
        {
          "output_type": "stream",
          "name": "stdout",
          "text": [
            "Masukkan sebuah angka : -343\n",
            "Negatif\n"
          ]
        }
      ]
    },
    {
      "cell_type": "markdown",
      "source": [
        "Soal 3"
      ],
      "metadata": {
        "id": "Rkz73cI5CZKa"
      }
    },
    {
      "cell_type": "code",
      "source": [
        "bulan = input(\"Masukkan bulan (1-12) : \")\n",
        "\n",
        "try:\n",
        "    jumlah_hari = int(bulan)\n",
        "    if jumlah_hari == 1:\n",
        "        print(\"31\")\n",
        "    elif jumlah_hari == 2:\n",
        "        print(\"29\")\n",
        "    elif jumlah_hari == 3:\n",
        "        print(\"31\")\n",
        "    elif jumlah_hari == 4:\n",
        "        print(\"30\")\n",
        "    elif jumlah_hari == 5:\n",
        "        print(\"31\")\n",
        "    elif jumlah_hari == 6:\n",
        "        print(\"30\")\n",
        "    elif jumlah_hari == 7:\n",
        "        print(\"31\")\n",
        "    elif jumlah_hari == 8:\n",
        "        print(\"31\")\n",
        "    elif jumlah_hari == 9:\n",
        "        print(\"30\")\n",
        "    elif jumlah_hari == 10:\n",
        "        print(\"31\")\n",
        "    elif jumlah_hari == 11:\n",
        "        print(\"30\")\n",
        "    elif jumlah_hari == 12:\n",
        "        print(\"31\")\n",
        "    else:\n",
        "        print(\"Data kurang sesuai!!\")\n",
        "except:\n",
        "    print(\"Data bulan tidak valid!\")"
      ],
      "metadata": {
        "id": "jhqrDM_LCbDa",
        "colab": {
          "base_uri": "https://localhost:8080/"
        },
        "outputId": "d3fb62f9-204a-48d8-8577-ac8ee4c4e2e3"
      },
      "execution_count": 7,
      "outputs": [
        {
          "output_type": "stream",
          "name": "stdout",
          "text": [
            "Masukkan bulan (1-12) : 2\n",
            "29\n"
          ]
        }
      ]
    },
    {
      "cell_type": "markdown",
      "source": [
        "Soal 4"
      ],
      "metadata": {
        "id": "uhZKRaJpCeQq"
      }
    },
    {
      "cell_type": "code",
      "source": [
        "input1 = input(\"Masukkan sisi 1 : \")\n",
        "input2 = input(\"Masukkan sisi 2 : \")\n",
        "input3 = input(\"Masukkan sisi 3 : \")\n",
        "\n",
        "try:\n",
        "    a = int(input1)\n",
        "    b = int(input2)\n",
        "    c = int(input3)\n",
        "\n",
        "    if a == b == c:\n",
        "        print(\"3 sisi sama\")\n",
        "    elif b == a or b == c:\n",
        "        print(\"2 sisi sama\")\n",
        "    elif c == a or c == b:\n",
        "        print(\"2 sisi sama\")\n",
        "    elif a == b or a == c:\n",
        "        print(\"2 sisi sama\")\n",
        "    else:\n",
        "        print(\"Tidak ada yang sama\")\n",
        "except:\n",
        "    print(\"Input tidak valid\")\n"
      ],
      "metadata": {
        "id": "ErK3PnSQCf2a",
        "colab": {
          "base_uri": "https://localhost:8080/"
        },
        "outputId": "39ff2d16-60fa-4c52-bff9-06b2c6e73402"
      },
      "execution_count": 8,
      "outputs": [
        {
          "output_type": "stream",
          "name": "stdout",
          "text": [
            "Masukkan sisi 1 : 14\n",
            "Masukkan sisi 2 : 25\n",
            "Masukkan sisi 3 : 14\n",
            "2 sisi sama\n"
          ]
        }
      ]
    }
  ]
}